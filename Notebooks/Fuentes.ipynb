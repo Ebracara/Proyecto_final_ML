{
 "cells": [
  {
   "cell_type": "markdown",
   "id": "0be325cd",
   "metadata": {},
   "source": [
    "## PROYECTO FINAL"
   ]
  },
  {
   "cell_type": "markdown",
   "id": "ac61ed44",
   "metadata": {},
   "source": [
    "### 1.- Carga de datos y exploración básica."
   ]
  },
  {
   "cell_type": "code",
   "execution_count": 1,
   "id": "4c6cfefe",
   "metadata": {},
   "outputs": [],
   "source": [
    "import pandas as pd\n"
   ]
  },
  {
   "cell_type": "code",
   "execution_count": 2,
   "id": "15022b22",
   "metadata": {},
   "outputs": [],
   "source": [
    "df= pd.read_csv('../Data/quejas-clientes.csv', index_col=[0])"
   ]
  },
  {
   "cell_type": "code",
   "execution_count": 3,
   "id": "2b3d4683",
   "metadata": {},
   "outputs": [
    {
     "name": "stdout",
     "output_type": "stream",
     "text": [
      "Filas y columnas: (28156, 13)\n"
     ]
    },
    {
     "data": {
      "text/plain": [
       "Complaint ID                0\n",
       "Product                     0\n",
       "Sub-product             10574\n",
       "Issue                       2\n",
       "Sub-issue               14945\n",
       "State                     421\n",
       "ZIP code                  280\n",
       "Date received               0\n",
       "Date sent to company        0\n",
       "Company                     0\n",
       "Company response            0\n",
       "Timely response?            0\n",
       "Consumer disputed?      22150\n",
       "dtype: int64"
      ]
     },
     "execution_count": 3,
     "metadata": {},
     "output_type": "execute_result"
    }
   ],
   "source": [
    "print(\"Filas y columnas:\", df.shape)\n",
    "df.head()\n",
    "df.dtypes\n",
    "df.isnull().sum()\n"
   ]
  },
  {
   "cell_type": "code",
   "execution_count": 4,
   "id": "c23308ca",
   "metadata": {},
   "outputs": [
    {
     "name": "stdout",
     "output_type": "stream",
     "text": [
      "<class 'pandas.core.frame.DataFrame'>\n",
      "Index: 28156 entries, 0 to 28155\n",
      "Data columns (total 13 columns):\n",
      " #   Column                Non-Null Count  Dtype  \n",
      "---  ------                --------------  -----  \n",
      " 0   Complaint ID          28156 non-null  int64  \n",
      " 1   Product               28156 non-null  object \n",
      " 2   Sub-product           17582 non-null  object \n",
      " 3   Issue                 28154 non-null  object \n",
      " 4   Sub-issue             13211 non-null  object \n",
      " 5   State                 27735 non-null  object \n",
      " 6   ZIP code              27876 non-null  float64\n",
      " 7   Date received         28156 non-null  object \n",
      " 8   Date sent to company  28156 non-null  object \n",
      " 9   Company               28156 non-null  object \n",
      " 10  Company response      28156 non-null  object \n",
      " 11  Timely response?      28156 non-null  object \n",
      " 12  Consumer disputed?    6006 non-null   object \n",
      "dtypes: float64(1), int64(1), object(11)\n",
      "memory usage: 3.0+ MB\n"
     ]
    }
   ],
   "source": [
    "df.info()"
   ]
  },
  {
   "cell_type": "markdown",
   "id": "24ba41d9",
   "metadata": {},
   "source": [
    "### Visión inicial."
   ]
  },
  {
   "cell_type": "code",
   "execution_count": 5,
   "id": "fbf1367d",
   "metadata": {},
   "outputs": [
    {
     "data": {
      "text/html": [
       "<div>\n",
       "<style scoped>\n",
       "    .dataframe tbody tr th:only-of-type {\n",
       "        vertical-align: middle;\n",
       "    }\n",
       "\n",
       "    .dataframe tbody tr th {\n",
       "        vertical-align: top;\n",
       "    }\n",
       "\n",
       "    .dataframe thead th {\n",
       "        text-align: right;\n",
       "    }\n",
       "</style>\n",
       "<table border=\"1\" class=\"dataframe\">\n",
       "  <thead>\n",
       "    <tr style=\"text-align: right;\">\n",
       "      <th></th>\n",
       "      <th>Complaint ID</th>\n",
       "      <th>Product</th>\n",
       "      <th>Sub-product</th>\n",
       "      <th>Issue</th>\n",
       "      <th>Sub-issue</th>\n",
       "      <th>State</th>\n",
       "      <th>ZIP code</th>\n",
       "      <th>Date received</th>\n",
       "      <th>Date sent to company</th>\n",
       "      <th>Company</th>\n",
       "      <th>Company response</th>\n",
       "      <th>Timely response?</th>\n",
       "      <th>Consumer disputed?</th>\n",
       "    </tr>\n",
       "  </thead>\n",
       "  <tbody>\n",
       "    <tr>\n",
       "      <th>0</th>\n",
       "      <td>1291006</td>\n",
       "      <td>Debt collection</td>\n",
       "      <td>NaN</td>\n",
       "      <td>Communication tactics</td>\n",
       "      <td>Frequent or repeated calls</td>\n",
       "      <td>TX</td>\n",
       "      <td>76119.0</td>\n",
       "      <td>2015-03-19</td>\n",
       "      <td>2015-03-19</td>\n",
       "      <td>Premium Asset Services, LLC</td>\n",
       "      <td>In progress</td>\n",
       "      <td>Yes</td>\n",
       "      <td>NaN</td>\n",
       "    </tr>\n",
       "    <tr>\n",
       "      <th>1</th>\n",
       "      <td>1290580</td>\n",
       "      <td>Debt collection</td>\n",
       "      <td>Medical</td>\n",
       "      <td>Cont'd attempts collect debt not owed</td>\n",
       "      <td>Debt is not mine</td>\n",
       "      <td>TX</td>\n",
       "      <td>77479.0</td>\n",
       "      <td>2015-03-19</td>\n",
       "      <td>2015-03-19</td>\n",
       "      <td>Accounts Receivable Consultants Inc.</td>\n",
       "      <td>Closed with explanation</td>\n",
       "      <td>Yes</td>\n",
       "      <td>NaN</td>\n",
       "    </tr>\n",
       "    <tr>\n",
       "      <th>2</th>\n",
       "      <td>1290564</td>\n",
       "      <td>Mortgage</td>\n",
       "      <td>FHA mortgage</td>\n",
       "      <td>Application, originator, mortgage broker</td>\n",
       "      <td>NaN</td>\n",
       "      <td>MA</td>\n",
       "      <td>2127.0</td>\n",
       "      <td>2015-03-19</td>\n",
       "      <td>2015-03-19</td>\n",
       "      <td>RBS Citizens</td>\n",
       "      <td>Closed with explanation</td>\n",
       "      <td>Yes</td>\n",
       "      <td>Yes</td>\n",
       "    </tr>\n",
       "    <tr>\n",
       "      <th>3</th>\n",
       "      <td>1291615</td>\n",
       "      <td>Credit card</td>\n",
       "      <td>NaN</td>\n",
       "      <td>Other</td>\n",
       "      <td>NaN</td>\n",
       "      <td>CA</td>\n",
       "      <td>92592.0</td>\n",
       "      <td>2015-03-19</td>\n",
       "      <td>2015-03-19</td>\n",
       "      <td>Navy FCU</td>\n",
       "      <td>In progress</td>\n",
       "      <td>Yes</td>\n",
       "      <td>NaN</td>\n",
       "    </tr>\n",
       "    <tr>\n",
       "      <th>4</th>\n",
       "      <td>1292165</td>\n",
       "      <td>Debt collection</td>\n",
       "      <td>Non-federal student loan</td>\n",
       "      <td>Cont'd attempts collect debt not owed</td>\n",
       "      <td>Debt resulted from identity theft</td>\n",
       "      <td>NaN</td>\n",
       "      <td>43068.0</td>\n",
       "      <td>2015-03-19</td>\n",
       "      <td>2015-03-19</td>\n",
       "      <td>Transworld Systems Inc.</td>\n",
       "      <td>In progress</td>\n",
       "      <td>Yes</td>\n",
       "      <td>NaN</td>\n",
       "    </tr>\n",
       "  </tbody>\n",
       "</table>\n",
       "</div>"
      ],
      "text/plain": [
       "   Complaint ID          Product               Sub-product  \\\n",
       "0       1291006  Debt collection                       NaN   \n",
       "1       1290580  Debt collection                   Medical   \n",
       "2       1290564         Mortgage              FHA mortgage   \n",
       "3       1291615      Credit card                       NaN   \n",
       "4       1292165  Debt collection  Non-federal student loan   \n",
       "\n",
       "                                      Issue  \\\n",
       "0                     Communication tactics   \n",
       "1     Cont'd attempts collect debt not owed   \n",
       "2  Application, originator, mortgage broker   \n",
       "3                                     Other   \n",
       "4     Cont'd attempts collect debt not owed   \n",
       "\n",
       "                           Sub-issue State  ZIP code Date received  \\\n",
       "0         Frequent or repeated calls    TX   76119.0    2015-03-19   \n",
       "1                   Debt is not mine    TX   77479.0    2015-03-19   \n",
       "2                                NaN    MA    2127.0    2015-03-19   \n",
       "3                                NaN    CA   92592.0    2015-03-19   \n",
       "4  Debt resulted from identity theft   NaN   43068.0    2015-03-19   \n",
       "\n",
       "  Date sent to company                               Company  \\\n",
       "0           2015-03-19           Premium Asset Services, LLC   \n",
       "1           2015-03-19  Accounts Receivable Consultants Inc.   \n",
       "2           2015-03-19                          RBS Citizens   \n",
       "3           2015-03-19                              Navy FCU   \n",
       "4           2015-03-19               Transworld Systems Inc.   \n",
       "\n",
       "          Company response Timely response? Consumer disputed?  \n",
       "0              In progress              Yes                NaN  \n",
       "1  Closed with explanation              Yes                NaN  \n",
       "2  Closed with explanation              Yes                Yes  \n",
       "3              In progress              Yes                NaN  \n",
       "4              In progress              Yes                NaN  "
      ]
     },
     "execution_count": 5,
     "metadata": {},
     "output_type": "execute_result"
    }
   ],
   "source": [
    "df.head(5)"
   ]
  },
  {
   "cell_type": "code",
   "execution_count": 6,
   "id": "353baf45",
   "metadata": {},
   "outputs": [
    {
     "name": "stdout",
     "output_type": "stream",
     "text": [
      "<class 'pandas.core.frame.DataFrame'>\n",
      "Index: 28156 entries, 0 to 28155\n",
      "Data columns (total 13 columns):\n",
      " #   Column                Non-Null Count  Dtype  \n",
      "---  ------                --------------  -----  \n",
      " 0   Complaint ID          28156 non-null  int64  \n",
      " 1   Product               28156 non-null  object \n",
      " 2   Sub-product           17582 non-null  object \n",
      " 3   Issue                 28154 non-null  object \n",
      " 4   Sub-issue             13211 non-null  object \n",
      " 5   State                 27735 non-null  object \n",
      " 6   ZIP code              27876 non-null  float64\n",
      " 7   Date received         28156 non-null  object \n",
      " 8   Date sent to company  28156 non-null  object \n",
      " 9   Company               28156 non-null  object \n",
      " 10  Company response      28156 non-null  object \n",
      " 11  Timely response?      28156 non-null  object \n",
      " 12  Consumer disputed?    6006 non-null   object \n",
      "dtypes: float64(1), int64(1), object(11)\n",
      "memory usage: 3.0+ MB\n"
     ]
    }
   ],
   "source": [
    "df.info()"
   ]
  },
  {
   "cell_type": "code",
   "execution_count": 7,
   "id": "74075a75",
   "metadata": {},
   "outputs": [
    {
     "data": {
      "text/plain": [
       "np.False_"
      ]
     },
     "execution_count": 7,
     "metadata": {},
     "output_type": "execute_result"
    }
   ],
   "source": [
    "# comprobacion de duplicados\n",
    "df.duplicated().any()\n"
   ]
  },
  {
   "cell_type": "markdown",
   "id": "a052e6d9",
   "metadata": {},
   "source": [
    "Se puede comprobar algunos errores, com el código posta con un punto decimal y un cero, pero no lo utilizaremos para nuestro proyecto.\n",
    "Cuando realizemos la limpieza EDA rellenaremos los vacios ya que sino no podremos realizar el entrenamiento de modelos."
   ]
  }
 ],
 "metadata": {
  "kernelspec": {
   "display_name": "Python 3",
   "language": "python",
   "name": "python3"
  },
  "language_info": {
   "codemirror_mode": {
    "name": "ipython",
    "version": 3
   },
   "file_extension": ".py",
   "mimetype": "text/x-python",
   "name": "python",
   "nbconvert_exporter": "python",
   "pygments_lexer": "ipython3",
   "version": "3.11.0"
  }
 },
 "nbformat": 4,
 "nbformat_minor": 5
}
